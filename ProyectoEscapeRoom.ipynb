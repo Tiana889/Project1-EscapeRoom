{
 "cells": [
  {
   "cell_type": "code",
   "execution_count": 7,
   "metadata": {},
   "outputs": [
    {
     "name": "stdout",
     "output_type": "stream",
     "text": [
      "Empieza el juego.\n",
      "Estás en la Game Room\n",
      "Moviendose...\n",
      "Lista de habitaciones: \n",
      "- Game Room\n",
      "- Bedroom 1\n",
      "- Bedroom 2\n",
      "- Living room\n",
      "- Outside\n",
      "No puedes acceder a la Bedroom 1\n",
      "Estás en la Game Room\n",
      "Acción no válida. Intenta nuevamente.\n"
     ]
    }
   ],
   "source": [
    "from funciones import *\n",
    "\n",
    "juego()"
   ]
  }
 ],
 "metadata": {
  "kernelspec": {
   "display_name": "Python 3",
   "language": "python",
   "name": "python3"
  },
  "language_info": {
   "codemirror_mode": {
    "name": "ipython",
    "version": 3
   },
   "file_extension": ".py",
   "mimetype": "text/x-python",
   "name": "python",
   "nbconvert_exporter": "python",
   "pygments_lexer": "ipython3",
   "version": "3.11.9"
  }
 },
 "nbformat": 4,
 "nbformat_minor": 2
}
